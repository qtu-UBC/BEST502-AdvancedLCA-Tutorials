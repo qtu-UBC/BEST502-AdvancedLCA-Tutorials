{
 "cells": [
  {
   "cell_type": "markdown",
   "id": "b9837f16-f9ca-4bf7-8435-7148f1fda1bf",
   "metadata": {},
   "source": [
    "# Importing data\n",
    "\n",
    "Importing data means taking data in some form, and preparing it so that we can express that data as nodes and edges. On its own, this is not too challenging - it mostly means converting data formats. The harder part is harmonizing the data, so that the fields used across imported databases are consistent enough that we can link consumers and supplier.\n",
    "\n",
    "Let's make this more concrete with an example. In the file `lci-carbon-fiber.xlsx` we have data from the publication [Ecological assessment of fuel cell electric vehicles with special focus on type IV carbon fiber hydrogen tank](https://www.sciencedirect.com/science/article/abs/pii/S0959652620333229). As this data is from Excel, it is tabular, and so on its surface looks different than the graph:\n",
    "\n",
    "<img src=\"images/spreadsheet.png\">\n",
    "\n",
    "However, this difference is mostly cosmetic. Both the _document_ and _graph_ perspectives are showing the same information, but with a different emphasis and organizing structure. In the graph perspective, edges are independent objects with their own metadata, and their sources and targets are given as [pointers](https://en.wikipedia.org/wiki/Pointer_(computer_programming)) to the node objects. In the document perspective, edges are subsumed in the definition of the nodes, and because most input data formats don't have pointers, references to input or output flows are defined by the attributes of thoses flows.\n",
    "\n",
    "Because we only have flow attributes, we need to define a way that we associate those attributes with nodes in our existing databases. This is trickier than you might think, as those is no guarantee that two data providers will use the same labels for things like locations or units; indeed, sometimes we even find different labels for the same attributes.\n",
    "\n",
    "Therefore, Brightway treats IO as a classic [ETL pipeline](https://en.wikipedia.org/wiki/Extract,_transform,_load), and applies a series of transformation functions to prepare the data and find the correct flows. Let's look at our real-world example:"
   ]
  },
  {
   "cell_type": "code",
   "execution_count": null,
   "id": "b8d8c15a-c5be-4feb-a7ab-17005d67b001",
   "metadata": {},
   "outputs": [],
   "source": [
    "import bw2data as bd\n",
    "import bw2io as bi\n",
    "from pathlib import Path"
   ]
  },
  {
   "cell_type": "markdown",
   "id": "e8cd71ae-1383-45d0-bc45-abbc3d7aa623",
   "metadata": {},
   "source": [
    "The example data is built on top of ecoinvent. You should update the project name to a project with ecoinvent 3.9 already installed."
   ]
  },
  {
   "cell_type": "markdown",
   "id": "909e239f-e72b-4e34-99b9-85b3eb213361",
   "metadata": {},
   "source": [
    "**1. Import Ecoinvent**"
   ]
  },
  {
   "cell_type": "code",
   "execution_count": null,
   "id": "b615a7ea-7024-4d9d-8254-5e7bd85afeea",
   "metadata": {},
   "outputs": [],
   "source": [
    "# import the biosphere and LCIA methods\n",
    "bi.remote.get_projects()"
   ]
  },
  {
   "cell_type": "code",
   "execution_count": null,
   "id": "6c1b5eea-a31f-4ce0-8dc7-2a39d676d771",
   "metadata": {},
   "outputs": [],
   "source": [
    "#bi.remote.install_project('<project_tag>', '<my_desired_project_name>')\n",
    "bi.remote.install_project('ecoinvent-3.8-biosphere', 'demo')"
   ]
  },
  {
   "cell_type": "code",
   "execution_count": null,
   "id": "888b2658-3c04-442a-bad5-a75e304f45ac",
   "metadata": {},
   "outputs": [],
   "source": [
    "bd.projects"
   ]
  },
  {
   "cell_type": "code",
   "execution_count": null,
   "id": "831ce40d-d666-443f-9e23-40f92cc2cd24",
   "metadata": {},
   "outputs": [],
   "source": [
    "bd.projects.set_current(\"demo\")"
   ]
  },
  {
   "cell_type": "code",
   "execution_count": null,
   "id": "92b8eba3-67bc-4f5a-8107-823d3cf35266",
   "metadata": {},
   "outputs": [],
   "source": [
    "bd.databases"
   ]
  },
  {
   "cell_type": "markdown",
   "id": "009e81a1-f696-43c1-a026-fb0611ddffc8",
   "metadata": {},
   "source": [
    "First, download the Ecoinvent data from the Ecoinvent website and unzip the file. Then, provide the path to the unzipped folder datasets in the code below (ecoinvent_path):"
   ]
  },
  {
   "cell_type": "code",
   "execution_count": null,
   "id": "5661f6a5-5fb8-43e0-8406-b7ee9f6811b7",
   "metadata": {},
   "outputs": [],
   "source": [
    "# import ecoinvent database\n",
    "ecoinvent_path = '/ecoinvent 3.8_cutoff_ecoSpold02/datasets'\n",
    "\n",
    "if 'ecoinvent-3.8-cutoff' in bd.databases:\n",
    "    print('Ecoinvent 3.8 is already present in the project.')\n",
    "else:\n",
    "    ei = bi.SingleOutputEcospold2Importer(dirpath=ecoinvent_path, db_name='ecoinvent-3.8-cutoff') #recommendation for consistent databases naming: database name (ecoinvent), version number, system model\n",
    "    ei.apply_strategies() #fixing some issues when ecoinvent and brightway have to talk together by going through all datasets and manipulating them in a specific way\n",
    "    ei.statistics() #checking if everything worked out with strategies and linking\n",
    "    ei.write_database() #save the database to our hard drive"
   ]
  },
  {
   "cell_type": "code",
   "execution_count": null,
   "id": "75c029a2-b6bd-4bff-8643-78e0ceaa4827",
   "metadata": {},
   "outputs": [],
   "source": [
    "bd.databases"
   ]
  },
  {
   "cell_type": "markdown",
   "id": "84cf5374-54c3-4841-b13b-554d079bc939",
   "metadata": {},
   "source": [
    "**2. Bridge external LCI data to Brightway database format.**"
   ]
  },
  {
   "cell_type": "code",
   "execution_count": null,
   "id": "f831eb2e-6cbb-4c3c-baa1-e1a9c855c627",
   "metadata": {},
   "outputs": [],
   "source": [
    "imp = bi.ExcelImporter(Path.cwd() / \"lci-carbon-fiber.xlsx\")"
   ]
  },
  {
   "cell_type": "markdown",
   "id": "14e8a624-db86-4dd2-a638-94705adff6e0",
   "metadata": {},
   "source": [
    "Before we make any changes, let's see what the data looks like in its raw form:"
   ]
  },
  {
   "cell_type": "code",
   "execution_count": null,
   "id": "f261814e-6253-4aa0-bff4-28a7c6d17a4f",
   "metadata": {},
   "outputs": [],
   "source": [
    "imp.data[0]"
   ]
  },
  {
   "cell_type": "markdown",
   "id": "f04a9b97-8eb5-415a-bd82-369fd8bcaac3",
   "metadata": {},
   "source": [
    "This is actually aleady quite close to the final form. In this case we are lucky as the import data was designed to be used in Brightway. Normally we would need to apply transformation functions; lets see what those default transformation functions would be:"
   ]
  },
  {
   "cell_type": "code",
   "execution_count": null,
   "id": "eeccdb7b-a069-437d-9ca0-f85aa2a6bd59",
   "metadata": {},
   "outputs": [],
   "source": [
    "imp.apply_strategies()"
   ]
  },
  {
   "cell_type": "markdown",
   "id": "8df333cd-b52d-431f-9342-5115f189ef63",
   "metadata": {},
   "source": [
    "We can look at the imported data statistics:"
   ]
  },
  {
   "cell_type": "code",
   "execution_count": null,
   "id": "8f3e5fe2-4034-4629-887b-8b4b89f81d15",
   "metadata": {},
   "outputs": [],
   "source": [
    "imp.statistics()"
   ]
  },
  {
   "cell_type": "markdown",
   "id": "81efd996-a16a-4e04-b472-b32e7ba44f57",
   "metadata": {},
   "source": [
    "We can iterate over the unlinked edges to get a sense for what we are missing:"
   ]
  },
  {
   "cell_type": "code",
   "execution_count": null,
   "id": "c4d92e47-7581-4eb1-b0f0-699181532df6",
   "metadata": {},
   "outputs": [],
   "source": [
    "for edge, _ in zip(imp.unlinked, range(5)):\n",
    "    print(edge)"
   ]
  },
  {
   "cell_type": "markdown",
   "id": "2e40ab72-9bb1-4f37-8fbc-f62904276eb2",
   "metadata": {},
   "source": [
    "OK, some unlinked exchanges are clearly from ecoinvent. Let's try to link those."
   ]
  },
  {
   "cell_type": "code",
   "execution_count": null,
   "id": "c6c27315-a41b-44eb-8659-90956eee4ad8",
   "metadata": {},
   "outputs": [],
   "source": [
    "imp.match_database(\"ecoinvent-3.8-cutoff\", fields=('name', 'reference product', 'unit', 'location'))\n",
    "imp.statistics()"
   ]
  },
  {
   "cell_type": "markdown",
   "id": "10ffeccb-869d-4da7-bec3-03e8f6361292",
   "metadata": {},
   "source": [
    "Let's check the unlinked edges:"
   ]
  },
  {
   "cell_type": "code",
   "execution_count": null,
   "id": "c0ce0cf3-b480-4e8e-ae32-c9252f89e0f8",
   "metadata": {},
   "outputs": [],
   "source": [
    "for edge in imp.unlinked:\n",
    "    print(edge)"
   ]
  },
  {
   "cell_type": "markdown",
   "id": "8c81414f-41e5-4a26-9490-89131894acfc",
   "metadata": {},
   "source": [
    "Let's look at the missing Argon flow first. Let's check our database layout:"
   ]
  },
  {
   "cell_type": "code",
   "execution_count": null,
   "id": "53e1d7f8-5b50-4043-bcf9-64e60e5e4b05",
   "metadata": {},
   "outputs": [],
   "source": [
    "bd.databases"
   ]
  },
  {
   "cell_type": "markdown",
   "id": "173f9e89-cc42-4492-b510-3cec006ae5dd",
   "metadata": {},
   "source": [
    "That should be in the `ecoinvent-3.8-biosphere` database. Let's search for argon:"
   ]
  },
  {
   "cell_type": "code",
   "execution_count": null,
   "id": "7faeed14-deb0-4c60-aac7-e0f4c2322140",
   "metadata": {},
   "outputs": [],
   "source": [
    "[(x['code'], x) for x in bd.Database(\"ecoinvent-3.8-cutoff\") if \"treatment of wastewater, average\" in x[\"name\"].lower()]"
   ]
  },
  {
   "cell_type": "markdown",
   "id": "321ea963-c41c-4361-a27b-16a37c0ac351",
   "metadata": {},
   "source": [
    "OK, so we have the following. In our imported data:\n",
    "\n",
    "```python\n",
    "{\n",
    "    'name': 'treatment of wastewater, average, wastewater treatment', \n",
    "}\n",
    "```\n",
    "\n",
    "And in our `ecoinvent-3.8-cutoff` database:\n",
    "\n",
    "```python\n",
    "{\n",
    "    'name': 'treatment of wastewater, average, capacity 1.6E8l/year', \n",
    "}\n",
    "```\n",
    "\n",
    "We can patch this manually:"
   ]
  },
  {
   "cell_type": "code",
   "execution_count": null,
   "id": "4a301699-ed2e-429c-9c38-9dc0d8a0de6c",
   "metadata": {},
   "outputs": [],
   "source": [
    "migration = {\n",
    "    \"fields\": [\"name\", \"location\"],\n",
    "    \"data\": [\n",
    "        (\n",
    "            (\"treatment of wastewater, average, wastewater treatment\", (\"CH\",)),\n",
    "            {\n",
    "                \"name\": \"treatment of wastewater, average, capacity 1.6E8l/year\",\n",
    "            },\n",
    "        )\n",
    "    ],\n",
    "}"
   ]
  },
  {
   "cell_type": "code",
   "execution_count": null,
   "id": "325bee89-fc49-4fda-98ac-e17f4dc07770",
   "metadata": {},
   "outputs": [],
   "source": [
    "bi.Migration(name=\"ei3.8-unlinked\").write(data=migration, description=\"Fix unlinked exchanges in ecoinvent 3.8\")"
   ]
  },
  {
   "cell_type": "code",
   "execution_count": null,
   "id": "12317eaf-c465-4e64-ab16-4937196b5811",
   "metadata": {},
   "outputs": [],
   "source": [
    "imp.data = bi.strategies.migrate_exchanges(\n",
    "    db=imp.data,\n",
    "    migration=\"ei3.8-unlinked\"\n",
    ")"
   ]
  },
  {
   "cell_type": "code",
   "execution_count": null,
   "id": "1ba0d9d4-8fe2-4a2a-9747-370be41f777d",
   "metadata": {},
   "outputs": [],
   "source": [
    "imp.match_database(\"ecoinvent-3.8-cutoff\", fields=('name', 'reference product', 'location'))\n",
    "imp.match_database(\"biosphere3\", fields=('name', 'unit', 'categories'))\n",
    "imp.statistics()"
   ]
  },
  {
   "cell_type": "code",
   "execution_count": null,
   "id": "33bca7c8-db81-4d49-86a2-1c0a3675f837",
   "metadata": {},
   "outputs": [],
   "source": [
    "assert imp.all_linked\n",
    "imp.write_database()"
   ]
  },
  {
   "cell_type": "markdown",
   "id": "afa35a24-08a7-4cf2-9625-ecef0dc3cde4",
   "metadata": {},
   "source": [
    "**Testing**"
   ]
  },
  {
   "cell_type": "code",
   "execution_count": null,
   "id": "53667da7-e3a1-4860-8ef8-0b9f6fcfa21b",
   "metadata": {},
   "outputs": [],
   "source": [
    "bd.databases"
   ]
  },
  {
   "cell_type": "code",
   "execution_count": null,
   "id": "0a055f76-914c-4fc3-ad7c-a3a96eab2a20",
   "metadata": {},
   "outputs": [],
   "source": [
    "len(bd.Database(\"carbon fiber\"))"
   ]
  },
  {
   "cell_type": "code",
   "execution_count": null,
   "id": "3a8f91d6-a6b6-4454-9d90-ccbbc0aa7aed",
   "metadata": {},
   "outputs": [],
   "source": [
    "db = bd.Database(\"carbon fiber\")\n",
    "\n",
    "for ds in db:\n",
    "    print(ds)"
   ]
  },
  {
   "cell_type": "code",
   "execution_count": null,
   "id": "37110518-9575-4596-8fb4-a7257a32e4f4",
   "metadata": {},
   "outputs": [],
   "source": [
    "my_node = bd.get_node(name=\"carbon fiber production, fiber drying and sizing\")\n",
    "list(my_node.edges())"
   ]
  },
  {
   "cell_type": "markdown",
   "id": "86154260-102c-4a14-bfde-eb03436a5108",
   "metadata": {},
   "source": [
    "**3. Builtin migrations (Optional)**"
   ]
  },
  {
   "cell_type": "markdown",
   "id": "ef1f4e76-2b13-461b-a90f-73f502692dc4",
   "metadata": {},
   "source": [
    "For other changes, we have some builtin migrations to take care of exactly these kinds of discrepancies. This is the [randonneur](https://github.com/brightway-lca/randonneur) tool, and its accompanying [randonneur_data](https://github.com/brightway-lca/randonneur_data) set of pre-computed migrations. Let look and see what is available:"
   ]
  },
  {
   "cell_type": "code",
   "execution_count": null,
   "id": "2f5d3017-b3e3-4a8d-8997-c079f96c94d1",
   "metadata": {},
   "outputs": [],
   "source": [
    "import randonneur_data as rd\n",
    "registry = rd.Registry()\n",
    "list(registry)"
   ]
  },
  {
   "cell_type": "markdown",
   "id": "ce479628-e75b-4ae5-a624-9a93f209d8b8",
   "metadata": {},
   "source": [
    "We can sample the data in each migration:"
   ]
  },
  {
   "cell_type": "code",
   "execution_count": null,
   "id": "97a595aa-6f8b-4e6e-9c0f-50922caab620",
   "metadata": {},
   "outputs": [],
   "source": [
    "registry.sample('ecoinvent-3.9.1-biosphere-ecoinvent-3.10-biosphere')"
   ]
  },
  {
   "cell_type": "markdown",
   "id": "9dfafcb8-c235-4350-9489-195c060977f5",
   "metadata": {},
   "source": [
    "We should also look at the technosphere migrations:"
   ]
  },
  {
   "cell_type": "code",
   "execution_count": null,
   "id": "4d919e8c-df3c-4293-a3f3-f4a6aef8f874",
   "metadata": {},
   "outputs": [],
   "source": [
    "registry.sample('ecoinvent-3.9.1-cutoff-ecoinvent-3.10-cutoff')"
   ]
  },
  {
   "cell_type": "markdown",
   "id": "164d102e-b004-47ca-b4be-250cbccc6994",
   "metadata": {},
   "source": [
    "In this specific case, the name difference was a change from ecoinvent version 3.9 to 3.10. We can apply the migration `ecoinvent-3.9.1-biosphere-ecoinvent-3.10-biosphere`, but need to be careful, as our unit labels don't match exactly. That's OK, we don't need to match against the unit."
   ]
  },
  {
   "cell_type": "code",
   "execution_count": null,
   "id": "5c5e518a-596d-4f71-ae0e-7d4e4b4f4d32",
   "metadata": {},
   "outputs": [],
   "source": [
    "imp.randonneur(\n",
    "    label='ecoinvent-3.9.1-cutoff-ecoinvent-3.10-cutoff',\n",
    "    fields=['name', 'location', 'reference product'],\n",
    ")"
   ]
  },
  {
   "cell_type": "code",
   "execution_count": null,
   "id": "057167f7-8948-4243-9900-2581a847a2ba",
   "metadata": {},
   "outputs": [],
   "source": [
    "for edge in imp.unlinked:\n",
    "    print(edge)"
   ]
  },
  {
   "cell_type": "code",
   "execution_count": null,
   "id": "4e5f085e-5f39-4864-a024-b9d69f35bbba",
   "metadata": {},
   "outputs": [],
   "source": [
    "for edge in imp.unlinked:\n",
    "    edge['unit'] = 'kilogram'"
   ]
  },
  {
   "cell_type": "code",
   "execution_count": null,
   "id": "4dd59b5b-9c35-4bc6-8f4c-89e636480dbe",
   "metadata": {},
   "outputs": [],
   "source": [
    "imp.match_database(\"ecoinvent-3.10-cutoff\", fields=('name', 'reference product', 'location'))\n",
    "imp.match_database(\"ecoinvent-3.10-biosphere\", fields=('name', 'unit', 'categories'))\n",
    "imp.statistics()"
   ]
  },
  {
   "cell_type": "code",
   "execution_count": null,
   "id": "84065d97-5860-4063-bbb9-d2b4ed12e99e",
   "metadata": {},
   "outputs": [],
   "source": [
    "assert imp.all_linked\n",
    "imp.write_database()"
   ]
  }
 ],
 "metadata": {
  "kernelspec": {
   "display_name": "Python 3 (ipykernel)",
   "language": "python",
   "name": "python3"
  },
  "language_info": {
   "codemirror_mode": {
    "name": "ipython",
    "version": 3
   },
   "file_extension": ".py",
   "mimetype": "text/x-python",
   "name": "python",
   "nbconvert_exporter": "python",
   "pygments_lexer": "ipython3",
   "version": "3.11.9"
  }
 },
 "nbformat": 4,
 "nbformat_minor": 5
}
