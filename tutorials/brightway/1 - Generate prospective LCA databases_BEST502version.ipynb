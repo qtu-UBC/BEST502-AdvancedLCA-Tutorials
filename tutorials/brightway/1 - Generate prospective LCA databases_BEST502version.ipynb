{
 "cells": [
  {
   "cell_type": "markdown",
   "id": "45660a26-44fb-42a2-9fe1-55bb829631a8",
   "metadata": {},
   "source": [
    "<div>\n",
    "    <table>\n",
    "        <tr>\n",
    "            <td>\n",
    "                <center>\n",
    "                    <h1>Premise Introduction</h1>\n",
    "                     <a href=\"https://www.psi.ch/en/ta/people/romain-sacchi\">Romain Sacchi</a> (PSI)\n",
    "                    <br><br>\n",
    "                    Duration: 1 hour 15 minutes.\n",
    "                </center>\n",
    "            </td>\n",
    "        </tr>\n",
    "    </div>\n",
    "\n",
    "<div class=\"alert alert-info\">\n",
    "Note: we will be using <a href=\"https://docs.brightway.dev/en/latest/content/installation/index.html\">Brightway 2</a>, not <a href=\"https://docs.brightway.dev/en/legacy/\">Brightway 2.5</a>, because we would like to visualize our results in <a href=\"https://github.com/LCA-ActivityBrowser/activity-browser\">Activity Browser</a>, which is for now only compatible with Brightway 2. But if you do not require ``activity-browser``, you can run this notebook in an environment containing ``brightway25``.\n",
    "</div>"
   ]
  },
  {
   "cell_type": "code",
   "execution_count": null,
   "id": "2c2accf6-6535-41a1-89b7-b1713e365df5",
   "metadata": {},
   "outputs": [],
   "source": [
    "from premise import __version__\n",
    "__version__"
   ]
  },
  {
   "cell_type": "code",
   "execution_count": null,
   "id": "9e66c22c-b133-426b-837d-b3bc810ea923",
   "metadata": {},
   "outputs": [],
   "source": [
    "from premise import *\n",
    "import bw2data as bd"
   ]
  },
  {
   "cell_type": "markdown",
   "id": "71215dcb-1e89-46c9-9bbf-872e81d3748b",
   "metadata": {},
   "source": [
    "Link to Premise scenario dashboard: https://premisedash-6f5a0259c487.herokuapp.com/\n",
    "\n",
    "Premise documentation: https://premise.readthedocs.io/en/latest/\n",
    "\n",
    "Examples notebook: https://github.com/polca/premise/blob/master/examples/examples.ipynb"
   ]
  },
  {
   "cell_type": "code",
   "execution_count": null,
   "id": "1c7387bd-22c3-4ec1-af1b-0f4a6ada5489",
   "metadata": {},
   "outputs": [],
   "source": [
    "NewDatabase?"
   ]
  },
  {
   "cell_type": "code",
   "execution_count": null,
   "id": "cfa507e7-d430-4b88-ba6b-2234c1a47d4d",
   "metadata": {},
   "outputs": [],
   "source": [
    "bd.projects.set_current(\"demo\")"
   ]
  },
  {
   "cell_type": "code",
   "execution_count": null,
   "id": "c184afda-8ed3-447c-bc43-627fbc3b787b",
   "metadata": {},
   "outputs": [],
   "source": [
    "bd.databases"
   ]
  },
  {
   "cell_type": "code",
   "execution_count": null,
   "id": "2b3b30d3-d951-4b71-8475-f11320233f37",
   "metadata": {},
   "outputs": [],
   "source": [
    "ndb = NewDatabase(\n",
    "    scenarios=[\n",
    "        {\"model\":\"image\", \"pathway\":\"SSP2-RCP19\", \"year\":2050},\n",
    "        {\"model\":\"remind\", \"pathway\":\"SSP2-PkBudg500\", \"year\":2050},\n",
    "    ],\n",
    "    source_db=\"ecoinvent-3.9.1-cutoff\", # <-- name of the database in the BW2 project. Must be a string.\n",
    "    source_version=\"3.9\", # <-- version of ecoinvent. Can be \"3.8\", \"3.9\" or \"3.10\". Must be a string.\n",
    "    key='tUePmX_S5B8ieZkkM7WUU2CnO8SmShwmAeWK9x2rTFo=', # <-- decryption key - The key is copied from the official Premise tutorial, available at: https://github.com/polca/premise/blob/master/examples/examples.ipynb\n",
    ")"
   ]
  },
  {
   "cell_type": "code",
   "execution_count": null,
   "id": "108075a2-16ee-4892-b846-14767f9bea70",
   "metadata": {},
   "outputs": [],
   "source": [
    "# select sector to integrate, or all sectors. for example, updating the electricity sector: ndb.update_electricity()\n",
    "ndb.update()"
   ]
  },
  {
   "cell_type": "code",
   "execution_count": null,
   "id": "f3303e44-f931-40cb-8b9f-ecfe90f6098b",
   "metadata": {},
   "outputs": [],
   "source": [
    "ndb.write_db_to_brightway()"
   ]
  },
  {
   "cell_type": "code",
   "execution_count": null,
   "id": "3af8c87a-3609-4125-b150-6876539a1d48",
   "metadata": {},
   "outputs": [],
   "source": [
    "ndb.write_superstructure_db_to_brightway()"
   ]
  },
  {
   "cell_type": "markdown",
   "id": "8a6da663-b634-4ae9-b33d-c624fe33fcb3",
   "metadata": {},
   "source": [
    "## Incremental Databases"
   ]
  },
  {
   "cell_type": "markdown",
   "id": "1dc43e44-f053-47c6-a824-6068f471bc90",
   "metadata": {},
   "source": [
    "The class ``IncrementalDatabase`` also implementing sectoral changes in an incremental, to easily distinguish the contribution of each sector on the results."
   ]
  },
  {
   "cell_type": "code",
   "execution_count": null,
   "id": "f38ac320-9bb2-4920-8010-d422f8369315",
   "metadata": {},
   "outputs": [],
   "source": [
    "ndb = IncrementalDatabase(\n",
    "    scenarios=[\n",
    "        {\"model\":\"image\", \"pathway\":\"SSP2-RCP26\", \"year\":2040},\n",
    "    ],\n",
    "    source_db=\"ecoinvent-3.9.-cutoff\", # <-- name of the database in the BW2 project. Must be a string.\n",
    "    source_version=\"3.10\", # <-- version of ecoinvent. Can be \"3.5\", \"3.6\", \"3.7\" or \"3.8\". Must be a string.\n",
    "    key=\"xxxxxxxxxxxxxxxxxx\",\n",
    ")"
   ]
  },
  {
   "cell_type": "code",
   "execution_count": null,
   "id": "52b3b7d9-4019-4f16-9b6b-9c1c9042454a",
   "metadata": {},
   "outputs": [],
   "source": [
    "sectors = {\n",
    "    \"electricity\": \"electricity\",\n",
    "    \"steel\": \"steel\",\n",
    "    \"others\": [\n",
    "        \"cement\",\n",
    "        \"cars\",\n",
    "        \"fuels\"\n",
    "    ]\n",
    "}"
   ]
  },
  {
   "cell_type": "code",
   "execution_count": null,
   "id": "ad34f965-1494-415a-8843-8aa55b778276",
   "metadata": {},
   "outputs": [],
   "source": [
    "ndb.update(sectors=sectors)"
   ]
  },
  {
   "cell_type": "code",
   "execution_count": null,
   "id": "b0fcb804-bfd5-4377-8e35-636af1d54c18",
   "metadata": {},
   "outputs": [],
   "source": [
    "ndb.write_increment_db_to_brightway(name=\"test increment\", file_format=\"csv\")"
   ]
  },
  {
   "cell_type": "markdown",
   "id": "c4048ea2-8791-41c2-897a-e0ef71b1bc82",
   "metadata": {},
   "source": [
    "## Reports\n",
    "### Scenario report\n",
    "You can generate a spreadsheet report showing the main variables of the scenario you have selected to create your databases. The report is saved in your working directory. Note that this report is generated automatically when exporting a database."
   ]
  },
  {
   "cell_type": "code",
   "execution_count": null,
   "id": "859aae5c-ec68-492c-b089-03141505e695",
   "metadata": {},
   "outputs": [],
   "source": [
    "ndb.generate_scenario_report()"
   ]
  },
  {
   "cell_type": "markdown",
   "id": "a8de2de3-d9df-45b7-87c9-903b87e3202e",
   "metadata": {},
   "source": [
    "## Changes report\n",
    "You can generate a spreadsheet report of the changes made to the original database. It gives an overview on:\n",
    "* the datasets created\n",
    "* the datasets modified\n",
    "* some performance indicators\n",
    "* scaling factors used to scale certain exchanges\n",
    "\n",
    "A \"Validation\" tab also shows any datasets that contain values or efficiencies that may seem incorrect.\n",
    "\n",
    "The report is saved in your working directory. It is generated automatically when you export a database."
   ]
  },
  {
   "cell_type": "code",
   "execution_count": null,
   "id": "6a2fdcc2-2169-4f5a-a2ab-bd8a37274846",
   "metadata": {},
   "outputs": [],
   "source": [
    "ndb.generate_change_report()"
   ]
  },
  {
   "cell_type": "code",
   "execution_count": null,
   "id": "9a62eecdedf03503",
   "metadata": {},
   "outputs": [],
   "source": []
  },
  {
   "cell_type": "markdown",
   "id": "2539d02bfc1a4d29",
   "metadata": {},
   "source": [
    "## Custom scenarios\n",
    "\n",
    "You can also create your own scenarios by providing a data package to premise. This data package should contain the following files:\n",
    "* ``datapackage.json``: a json file containing the metadata of the data package\n",
    "* ``scenario_data.csv``: a csv file containing the scenario data\n",
    "* ``config.yaml``: a yaml file containing the configuration of the scenario (which markets to create, etc.)\n",
    "* ``lci-inventories.csv``: a csv file containing additional inventories to import"
   ]
  },
  {
   "cell_type": "code",
   "execution_count": null,
   "id": "aca0631abffd620a",
   "metadata": {},
   "outputs": [],
   "source": [
    "import brightway2 as bw\n",
    "from premise import NewDatabase\n",
    "from datapackage import Package\n",
    "\n",
    "\n",
    "fp = r\"https://raw.githubusercontent.com/premise-community-scenarios/ammonia-prospective-scenarios/main/datapackage.json\"\n",
    "ammonia = Package(fp)\n",
    "\n",
    "bw.projects.set_current(\"your_bw_project\")\n",
    "\n",
    "ndb = NewDatabase(\n",
    "    scenarios = [\n",
    "        {\"model\":\"image\", \"pathway\":\"SSP2-Base\", \"year\":2050, \"external scenarios\": [{\"scenario\": \"Business As Usual - image\", \"data\": ammonia}]},\n",
    "        {\"model\":\"image\", \"pathway\":\"SSP2-RCP26\", \"year\":2030, \"external scenarios\": [{\"scenario\": \"Sustainable development - image\", \"data\": ammonia}]},\n",
    "    ],        \n",
    "    source_db=\"ecoinvent 3.10 cutoff\",\n",
    "    source_version=\"3.10\",\n",
    "    key='xxxxxxxxxxxxxxxxxxxxxxxxxxxxxxxxxxx',\n",
    ")\n",
    "    \n",
    "ndb.update(\"external\") # or ndb.update() if you want to update the database with the IAM data plus the external scenario\n"
   ]
  }
 ],
 "metadata": {
  "kernelspec": {
   "display_name": "Python 3 (ipykernel)",
   "language": "python",
   "name": "python3"
  },
  "language_info": {
   "codemirror_mode": {
    "name": "ipython",
    "version": 3
   },
   "file_extension": ".py",
   "mimetype": "text/x-python",
   "name": "python",
   "nbconvert_exporter": "python",
   "pygments_lexer": "ipython3",
   "version": "3.11.9"
  }
 },
 "nbformat": 4,
 "nbformat_minor": 5
}
