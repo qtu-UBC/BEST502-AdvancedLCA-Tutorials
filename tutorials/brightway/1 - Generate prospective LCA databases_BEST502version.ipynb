{
 "cells": [
  {
   "cell_type": "markdown",
   "id": "45660a26-44fb-42a2-9fe1-55bb829631a8",
   "metadata": {},
   "source": [
    "<div>\n",
    "    <table>\n",
    "        <tr>\n",
    "            <td>\n",
    "                <center>\n",
    "                    <h1>Premise Introduction</h1>\n",
    "                     <a href=\"https://www.psi.ch/en/ta/people/romain-sacchi\">Romain Sacchi</a> (PSI)\n",
    "                    <br><br>\n",
    "                    Duration: 1 hour 15 minutes.\n",
    "                </center>\n",
    "            </td>\n",
    "        </tr>\n",
    "    </div>\n",
    "\n",
    "<div class=\"alert alert-info\">\n",
    "Note: we will be using <a href=\"https://docs.brightway.dev/en/latest/content/installation/index.html\">Brightway 2</a>, not <a href=\"https://docs.brightway.dev/en/legacy/\">Brightway 2.5</a>, because we would like to visualize our results in <a href=\"https://github.com/LCA-ActivityBrowser/activity-browser\">Activity Browser</a>, which is for now only compatible with Brightway 2. But if you do not require ``activity-browser``, you can run this notebook in an environment containing ``brightway25``.\n",
    "</div>"
   ]
  },
  {
   "cell_type": "code",
   "execution_count": 14,
   "id": "2c2accf6-6535-41a1-89b7-b1713e365df5",
   "metadata": {},
   "outputs": [
    {
     "data": {
      "text/plain": [
       "(2, 1, 0)"
      ]
     },
     "execution_count": 14,
     "metadata": {},
     "output_type": "execute_result"
    }
   ],
   "source": [
    "from premise import __version__\n",
    "__version__"
   ]
  },
  {
   "cell_type": "code",
   "execution_count": 4,
   "id": "9e66c22c-b133-426b-837d-b3bc810ea923",
   "metadata": {},
   "outputs": [],
   "source": [
    "from premise import *\n",
    "import bw2data as bd"
   ]
  },
  {
   "cell_type": "markdown",
   "id": "71215dcb-1e89-46c9-9bbf-872e81d3748b",
   "metadata": {},
   "source": [
    "Link to Premise scenario dashboard: https://premisedash-6f5a0259c487.herokuapp.com/\n",
    "\n",
    "Premise documentation: https://premise.readthedocs.io/en/latest/\n",
    "\n",
    "Examples notebook: https://github.com/polca/premise/blob/master/examples/examples.ipynb"
   ]
  },
  {
   "cell_type": "code",
   "execution_count": 15,
   "id": "1c7387bd-22c3-4ec1-af1b-0f4a6ada5489",
   "metadata": {},
   "outputs": [
    {
     "data": {
      "text/plain": [
       "\u001b[1;31mInit signature:\u001b[0m\n",
       "\u001b[0mNewDatabase\u001b[0m\u001b[1;33m(\u001b[0m\u001b[1;33m\n",
       "\u001b[0m    \u001b[0mscenarios\u001b[0m\u001b[1;33m:\u001b[0m \u001b[0mList\u001b[0m\u001b[1;33m[\u001b[0m\u001b[0mdict\u001b[0m\u001b[1;33m]\u001b[0m\u001b[1;33m,\u001b[0m\u001b[1;33m\n",
       "\u001b[0m    \u001b[0msource_version\u001b[0m\u001b[1;33m:\u001b[0m \u001b[0mstr\u001b[0m \u001b[1;33m=\u001b[0m \u001b[1;34m'3.9'\u001b[0m\u001b[1;33m,\u001b[0m\u001b[1;33m\n",
       "\u001b[0m    \u001b[0msource_type\u001b[0m\u001b[1;33m:\u001b[0m \u001b[0mstr\u001b[0m \u001b[1;33m=\u001b[0m \u001b[1;34m'brightway'\u001b[0m\u001b[1;33m,\u001b[0m\u001b[1;33m\n",
       "\u001b[0m    \u001b[0mkey\u001b[0m\u001b[1;33m:\u001b[0m \u001b[0mbytes\u001b[0m \u001b[1;33m=\u001b[0m \u001b[1;32mNone\u001b[0m\u001b[1;33m,\u001b[0m\u001b[1;33m\n",
       "\u001b[0m    \u001b[0msource_db\u001b[0m\u001b[1;33m:\u001b[0m \u001b[0mstr\u001b[0m \u001b[1;33m=\u001b[0m \u001b[1;32mNone\u001b[0m\u001b[1;33m,\u001b[0m\u001b[1;33m\n",
       "\u001b[0m    \u001b[0msource_file_path\u001b[0m\u001b[1;33m:\u001b[0m \u001b[0mstr\u001b[0m \u001b[1;33m=\u001b[0m \u001b[1;32mNone\u001b[0m\u001b[1;33m,\u001b[0m\u001b[1;33m\n",
       "\u001b[0m    \u001b[0madditional_inventories\u001b[0m\u001b[1;33m:\u001b[0m \u001b[0mList\u001b[0m\u001b[1;33m[\u001b[0m\u001b[0mdict\u001b[0m\u001b[1;33m]\u001b[0m \u001b[1;33m=\u001b[0m \u001b[1;32mNone\u001b[0m\u001b[1;33m,\u001b[0m\u001b[1;33m\n",
       "\u001b[0m    \u001b[0msystem_model\u001b[0m\u001b[1;33m:\u001b[0m \u001b[0mstr\u001b[0m \u001b[1;33m=\u001b[0m \u001b[1;34m'cutoff'\u001b[0m\u001b[1;33m,\u001b[0m\u001b[1;33m\n",
       "\u001b[0m    \u001b[0msystem_args\u001b[0m\u001b[1;33m:\u001b[0m \u001b[0mdict\u001b[0m \u001b[1;33m=\u001b[0m \u001b[1;32mNone\u001b[0m\u001b[1;33m,\u001b[0m\u001b[1;33m\n",
       "\u001b[0m    \u001b[0muse_cached_inventories\u001b[0m\u001b[1;33m:\u001b[0m \u001b[0mbool\u001b[0m \u001b[1;33m=\u001b[0m \u001b[1;32mTrue\u001b[0m\u001b[1;33m,\u001b[0m\u001b[1;33m\n",
       "\u001b[0m    \u001b[0muse_cached_database\u001b[0m\u001b[1;33m:\u001b[0m \u001b[0mbool\u001b[0m \u001b[1;33m=\u001b[0m \u001b[1;32mTrue\u001b[0m\u001b[1;33m,\u001b[0m\u001b[1;33m\n",
       "\u001b[0m    \u001b[0mexternal_scenarios\u001b[0m\u001b[1;33m:\u001b[0m \u001b[0mlist\u001b[0m \u001b[1;33m=\u001b[0m \u001b[1;32mNone\u001b[0m\u001b[1;33m,\u001b[0m\u001b[1;33m\n",
       "\u001b[0m    \u001b[0mquiet\u001b[0m\u001b[1;33m=\u001b[0m\u001b[1;32mFalse\u001b[0m\u001b[1;33m,\u001b[0m\u001b[1;33m\n",
       "\u001b[0m    \u001b[0mkeep_uncertainty_data\u001b[0m\u001b[1;33m=\u001b[0m\u001b[1;32mFalse\u001b[0m\u001b[1;33m,\u001b[0m\u001b[1;33m\n",
       "\u001b[0m    \u001b[0mgains_scenario\u001b[0m\u001b[1;33m=\u001b[0m\u001b[1;34m'CLE'\u001b[0m\u001b[1;33m,\u001b[0m\u001b[1;33m\n",
       "\u001b[0m    \u001b[0muse_absolute_efficiency\u001b[0m\u001b[1;33m=\u001b[0m\u001b[1;32mFalse\u001b[0m\u001b[1;33m,\u001b[0m\u001b[1;33m\n",
       "\u001b[0m\u001b[1;33m)\u001b[0m \u001b[1;33m->\u001b[0m \u001b[1;32mNone\u001b[0m\u001b[1;33m\u001b[0m\u001b[1;33m\u001b[0m\u001b[0m\n",
       "\u001b[1;31mDocstring:\u001b[0m     \n",
       "Class that represents a new wurst inventory database, modified according to IAM data.\n",
       "\n",
       ":ivar source_type: the source of the ecoinvent database. Can be `brigthway` or `ecospold`.\n",
       ":vartype source_type: str\n",
       ":vartype source_db: str\n",
       ":ivar system_model: Can be `cutoff` (default) or `consequential`.\n",
       ":vartype system_model: str\n",
       "\u001b[1;31mFile:\u001b[0m           c:\\software\\anaconda\\envs\\brightway\\lib\\site-packages\\premise\\new_database.py\n",
       "\u001b[1;31mType:\u001b[0m           type\n",
       "\u001b[1;31mSubclasses:\u001b[0m     "
      ]
     },
     "metadata": {},
     "output_type": "display_data"
    }
   ],
   "source": [
    "NewDatabase?"
   ]
  },
  {
   "cell_type": "code",
   "execution_count": 21,
   "id": "cfa507e7-d430-4b88-ba6b-2234c1a47d4d",
   "metadata": {},
   "outputs": [],
   "source": [
    "bd.projects.set_current(\"demo\")"
   ]
  },
  {
   "cell_type": "code",
   "execution_count": 22,
   "id": "c184afda-8ed3-447c-bc43-627fbc3b787b",
   "metadata": {},
   "outputs": [
    {
     "data": {
      "text/plain": [
       "Databases dictionary with 2 object(s):\n",
       "\tbiosphere3\n",
       "\tecoinvent-3.9.1-cutoff"
      ]
     },
     "execution_count": 22,
     "metadata": {},
     "output_type": "execute_result"
    }
   ],
   "source": [
    "bd.databases"
   ]
  },
  {
   "cell_type": "code",
   "execution_count": 26,
   "id": "2b3b30d3-d951-4b71-8475-f11320233f37",
   "metadata": {},
   "outputs": [
    {
     "name": "stdout",
     "output_type": "stream",
     "text": [
      "premise v.(2, 1, 0)\n",
      "+------------------------------------------------------------------+\n",
      "| Warning                                                          |\n",
      "+------------------------------------------------------------------+\n",
      "| Because some of the scenarios can yield LCI databases            |\n",
      "| containing net negative emission technologies (NET),             |\n",
      "| it is advised to account for biogenic CO2 flows when calculating |\n",
      "| Global Warming potential indicators.                             |\n",
      "| `premise_gwp` provides characterization factors for such flows.  |\n",
      "| It also provides factors for hydrogen emissions to air.          |\n",
      "|                                                                  |\n",
      "| Within your bw2 project:                                         |\n",
      "| from premise_gwp import add_premise_gwp                          |\n",
      "| add_premise_gwp()                                                |\n",
      "+------------------------------------------------------------------+\n",
      "+--------------------------------+----------------------------------+\n",
      "| Utils functions                | Description                      |\n",
      "+--------------------------------+----------------------------------+\n",
      "| clear_cache()                  | Clears the cache folder. Useful  |\n",
      "|                                | when updating `premise`or        |\n",
      "|                                | encountering issues with         |\n",
      "|                                | inventories.                     |\n",
      "+--------------------------------+----------------------------------+\n",
      "| get_regions_definition(model)  | Retrieves the list of countries  |\n",
      "|                                | for each region of the model.    |\n",
      "+--------------------------------+----------------------------------+\n",
      "| ndb.NewDatabase(...)           | Generates a summary of the most  |\n",
      "| ndb.generate_scenario_report() | important scenarios' variables.  |\n",
      "+--------------------------------+----------------------------------+\n",
      "Keep uncertainty data?\n",
      "NewDatabase(..., keep_uncertainty_data=True)\n",
      "\n",
      "Disable multiprocessing?\n",
      "NewDatabase(..., use_multiprocessing=False)\n",
      "\n",
      "Hide these messages?\n",
      "NewDatabase(..., quiet=True)\n",
      "- Extracting source database\n",
      "- Extracting inventories\n",
      "- Fetching IAM data\n",
      "Done!\n"
     ]
    }
   ],
   "source": [
    "ndb = NewDatabase(\n",
    "    scenarios=[\n",
    "        {\"model\":\"image\", \"pathway\":\"SSP2-RCP19\", \"year\":2050},\n",
    "        {\"model\":\"remind\", \"pathway\":\"SSP2-PkBudg500\", \"year\":2050},\n",
    "    ],\n",
    "    source_db=\"ecoinvent-3.9.1-cutoff\", # <-- name of the database in the BW2 project. Must be a string.\n",
    "    source_version=\"3.9\", # <-- version of ecoinvent. Can be \"3.8\", \"3.9\" or \"3.10\". Must be a string.\n",
    "    key='xxxxxxxxxxxxxxxxxxxxxxxxx', # <-- decryption key\n",
    "    # to be requested from the library maintainers if you want ot use default scenarios included in `premise`\n",
    ")"
   ]
  },
  {
   "cell_type": "code",
   "execution_count": 27,
   "id": "108075a2-16ee-4892-b846-14767f9bea70",
   "metadata": {},
   "outputs": [
    {
     "name": "stderr",
     "output_type": "stream",
     "text": [
      "Processing scenarios:   0%|                     | 0/2 [03:10<?, ?it/s]"
     ]
    },
    {
     "name": "stdout",
     "output_type": "stream",
     "text": [
      "No possible datasets found for ('treatment of wastewater, average, capacity 1.1E10l/year', None) in electricity production, at wood burning power plant BRA\n"
     ]
    },
    {
     "name": "stderr",
     "output_type": "stream",
     "text": [
      "\n"
     ]
    },
    {
     "ename": "AssertionError",
     "evalue": "Exchanges before and after relinking are not the same: {'water, decarbonised', 'municipal solid waste', 'transport, freight, lorry, unspecified', 'chlorine, liquid', 'wood combustion power plant 20 MW', 'lubricating oil', 'waste mineral oil', None, 'sodium chloride, powder', 'ammonia, anhydrous, liquid', 'biomass, used as fuel', 'chemical, organic', 'wood ash mixture, pure'} != {'water, decarbonised', 'municipal solid waste', 'transport, freight, lorry, unspecified', 'chlorine, liquid', 'wood combustion power plant 20 MW', 'lubricating oil', 'waste mineral oil', 'sodium chloride, powder', 'ammonia, anhydrous, liquid', 'biomass, used as fuel', 'chemical, organic', 'wood ash mixture, pure'}\nelectricity production, at wood burning power plant|BRA",
     "output_type": "error",
     "traceback": [
      "\u001b[1;31m---------------------------------------------------------------------------\u001b[0m",
      "\u001b[1;31mAssertionError\u001b[0m                            Traceback (most recent call last)",
      "Cell \u001b[1;32mIn[27], line 3\u001b[0m\n\u001b[0;32m      1\u001b[0m \u001b[38;5;66;03m# select sector to integrate, or all sectors\u001b[39;00m\n\u001b[0;32m      2\u001b[0m \u001b[38;5;66;03m# for example, updating the electricity sector: ndb.update_electricity()\u001b[39;00m\n\u001b[1;32m----> 3\u001b[0m \u001b[43mndb\u001b[49m\u001b[38;5;241;43m.\u001b[39;49m\u001b[43mupdate\u001b[49m\u001b[43m(\u001b[49m\u001b[43m)\u001b[49m\n",
      "File \u001b[1;32mC:\\Software\\Anaconda\\envs\\brightway\\Lib\\site-packages\\premise\\new_database.py:908\u001b[0m, in \u001b[0;36mNewDatabase.update\u001b[1;34m(self, sectors)\u001b[0m\n\u001b[0;32m    906\u001b[0m update_func \u001b[38;5;241m=\u001b[39m sector_update_methods[sector][\u001b[38;5;124m\"\u001b[39m\u001b[38;5;124mfunc\u001b[39m\u001b[38;5;124m\"\u001b[39m]\n\u001b[0;32m    907\u001b[0m fixed_args \u001b[38;5;241m=\u001b[39m sector_update_methods[sector][\u001b[38;5;124m\"\u001b[39m\u001b[38;5;124margs\u001b[39m\u001b[38;5;124m\"\u001b[39m]\n\u001b[1;32m--> 908\u001b[0m scenario \u001b[38;5;241m=\u001b[39m \u001b[43mupdate_func\u001b[49m\u001b[43m(\u001b[49m\u001b[43mscenario\u001b[49m\u001b[43m,\u001b[49m\u001b[43m \u001b[49m\u001b[38;5;241;43m*\u001b[39;49m\u001b[43mfixed_args\u001b[49m\u001b[43m)\u001b[49m\n\u001b[0;32m    910\u001b[0m \u001b[38;5;28;01mif\u001b[39;00m \u001b[38;5;124m\"\u001b[39m\u001b[38;5;124mapplied functions\u001b[39m\u001b[38;5;124m\"\u001b[39m \u001b[38;5;129;01mnot\u001b[39;00m \u001b[38;5;129;01min\u001b[39;00m scenario:\n\u001b[0;32m    911\u001b[0m     scenario[\u001b[38;5;124m\"\u001b[39m\u001b[38;5;124mapplied functions\u001b[39m\u001b[38;5;124m\"\u001b[39m] \u001b[38;5;241m=\u001b[39m []\n",
      "File \u001b[1;32mC:\\Software\\Anaconda\\envs\\brightway\\Lib\\site-packages\\premise\\electricity.py:250\u001b[0m, in \u001b[0;36m_update_electricity\u001b[1;34m(scenario, version, system_model, use_absolute_efficiency)\u001b[0m\n\u001b[0;32m    246\u001b[0m electricity\u001b[38;5;241m.\u001b[39madjust_coal_power_plant_emissions()\n\u001b[0;32m    248\u001b[0m electricity\u001b[38;5;241m.\u001b[39mupdate_efficiency_of_solar_pv()\n\u001b[1;32m--> 250\u001b[0m \u001b[43melectricity\u001b[49m\u001b[38;5;241;43m.\u001b[39;49m\u001b[43mcreate_region_specific_power_plants\u001b[49m\u001b[43m(\u001b[49m\u001b[43m)\u001b[49m\n\u001b[0;32m    252\u001b[0m \u001b[38;5;28;01mif\u001b[39;00m scenario[\u001b[38;5;124m\"\u001b[39m\u001b[38;5;124miam data\u001b[39m\u001b[38;5;124m\"\u001b[39m]\u001b[38;5;241m.\u001b[39melectricity_markets \u001b[38;5;129;01mis\u001b[39;00m \u001b[38;5;129;01mnot\u001b[39;00m \u001b[38;5;28;01mNone\u001b[39;00m:\n\u001b[0;32m    253\u001b[0m     electricity\u001b[38;5;241m.\u001b[39mupdate_electricity_markets()\n",
      "File \u001b[1;32mC:\\Software\\Anaconda\\envs\\brightway\\Lib\\site-packages\\premise\\electricity.py:1552\u001b[0m, in \u001b[0;36mElectricity.create_region_specific_power_plants\u001b[1;34m(self)\u001b[0m\n\u001b[0;32m   1534\u001b[0m list_datasets_to_duplicate\u001b[38;5;241m.\u001b[39mextend(\n\u001b[0;32m   1535\u001b[0m     [\n\u001b[0;32m   1536\u001b[0m         \u001b[38;5;124m\"\u001b[39m\u001b[38;5;124mcarbon dioxide storage from\u001b[39m\u001b[38;5;124m\"\u001b[39m,\n\u001b[1;32m   (...)\u001b[0m\n\u001b[0;32m   1543\u001b[0m     ]\n\u001b[0;32m   1544\u001b[0m )\n\u001b[0;32m   1546\u001b[0m \u001b[38;5;28;01mfor\u001b[39;00m dataset \u001b[38;5;129;01min\u001b[39;00m ws\u001b[38;5;241m.\u001b[39mget_many(\n\u001b[0;32m   1547\u001b[0m     \u001b[38;5;28mself\u001b[39m\u001b[38;5;241m.\u001b[39mdatabase,\n\u001b[0;32m   1548\u001b[0m     ws\u001b[38;5;241m.\u001b[39meither(\n\u001b[0;32m   1549\u001b[0m         \u001b[38;5;241m*\u001b[39m[ws\u001b[38;5;241m.\u001b[39mcontains(\u001b[38;5;124m\"\u001b[39m\u001b[38;5;124mname\u001b[39m\u001b[38;5;124m\"\u001b[39m, name) \u001b[38;5;28;01mfor\u001b[39;00m name \u001b[38;5;129;01min\u001b[39;00m list_datasets_to_duplicate]\n\u001b[0;32m   1550\u001b[0m     ),\n\u001b[0;32m   1551\u001b[0m ):\n\u001b[1;32m-> 1552\u001b[0m     new_plants \u001b[38;5;241m=\u001b[39m \u001b[38;5;28;43mself\u001b[39;49m\u001b[38;5;241;43m.\u001b[39;49m\u001b[43mfetch_proxies\u001b[49m\u001b[43m(\u001b[49m\n\u001b[0;32m   1553\u001b[0m \u001b[43m        \u001b[49m\u001b[43mname\u001b[49m\u001b[38;5;241;43m=\u001b[39;49m\u001b[43mdataset\u001b[49m\u001b[43m[\u001b[49m\u001b[38;5;124;43m\"\u001b[39;49m\u001b[38;5;124;43mname\u001b[39;49m\u001b[38;5;124;43m\"\u001b[39;49m\u001b[43m]\u001b[49m\u001b[43m,\u001b[49m\n\u001b[0;32m   1554\u001b[0m \u001b[43m        \u001b[49m\u001b[43mref_prod\u001b[49m\u001b[38;5;241;43m=\u001b[39;49m\u001b[43mdataset\u001b[49m\u001b[43m[\u001b[49m\u001b[38;5;124;43m\"\u001b[39;49m\u001b[38;5;124;43mreference product\u001b[39;49m\u001b[38;5;124;43m\"\u001b[39;49m\u001b[43m]\u001b[49m\u001b[43m,\u001b[49m\n\u001b[0;32m   1555\u001b[0m \u001b[43m        \u001b[49m\u001b[43mproduction_variable\u001b[49m\u001b[38;5;241;43m=\u001b[39;49m\u001b[38;5;28;43mself\u001b[39;49m\u001b[38;5;241;43m.\u001b[39;49m\u001b[43mpowerplant_map_rev\u001b[49m\u001b[38;5;241;43m.\u001b[39;49m\u001b[43mget\u001b[49m\u001b[43m(\u001b[49m\u001b[43mdataset\u001b[49m\u001b[43m[\u001b[49m\u001b[38;5;124;43m\"\u001b[39;49m\u001b[38;5;124;43mname\u001b[39;49m\u001b[38;5;124;43m\"\u001b[39;49m\u001b[43m]\u001b[49m\u001b[43m)\u001b[49m\u001b[43m,\u001b[49m\n\u001b[0;32m   1556\u001b[0m \u001b[43m    \u001b[49m\u001b[43m)\u001b[49m\n\u001b[0;32m   1558\u001b[0m     \u001b[38;5;28;01mfor\u001b[39;00m new_plant \u001b[38;5;129;01min\u001b[39;00m new_plants\u001b[38;5;241m.\u001b[39mvalues():\n\u001b[0;32m   1559\u001b[0m         \u001b[38;5;28mself\u001b[39m\u001b[38;5;241m.\u001b[39madd_to_index(new_plant)\n",
      "File \u001b[1;32mC:\\Software\\Anaconda\\envs\\brightway\\Lib\\site-packages\\premise\\transformation.py:813\u001b[0m, in \u001b[0;36mBaseTransformation.fetch_proxies\u001b[1;34m(self, name, ref_prod, production_variable, relink, regions, geo_mapping, delete_original_dataset, empty_original_activity, exact_name_match, exact_product_match, unlist, subset)\u001b[0m\n\u001b[0;32m    810\u001b[0m     prod[\u001b[38;5;124m\"\u001b[39m\u001b[38;5;124mproduction volume\u001b[39m\u001b[38;5;124m\"\u001b[39m] \u001b[38;5;241m=\u001b[39m prod_vol\n\u001b[0;32m    812\u001b[0m \u001b[38;5;28;01mif\u001b[39;00m relink:\n\u001b[1;32m--> 813\u001b[0m     d_act[region] \u001b[38;5;241m=\u001b[39m \u001b[38;5;28;43mself\u001b[39;49m\u001b[38;5;241;43m.\u001b[39;49m\u001b[43mrelink_technosphere_exchanges\u001b[49m\u001b[43m(\u001b[49m\u001b[43md_act\u001b[49m\u001b[43m[\u001b[49m\u001b[43mregion\u001b[49m\u001b[43m]\u001b[49m\u001b[43m)\u001b[49m\n\u001b[0;32m    815\u001b[0m ds_name \u001b[38;5;241m=\u001b[39m d_act[region][\u001b[38;5;124m\"\u001b[39m\u001b[38;5;124mname\u001b[39m\u001b[38;5;124m\"\u001b[39m]\n\u001b[0;32m    816\u001b[0m ds_ref_prod \u001b[38;5;241m=\u001b[39m d_act[region][\u001b[38;5;124m\"\u001b[39m\u001b[38;5;124mreference product\u001b[39m\u001b[38;5;124m\"\u001b[39m]\n",
      "File \u001b[1;32mC:\\Software\\Anaconda\\envs\\brightway\\Lib\\site-packages\\premise\\transformation.py:1968\u001b[0m, in \u001b[0;36mBaseTransformation.relink_technosphere_exchanges\u001b[1;34m(self, dataset, exclusive, biggest_first, contained)\u001b[0m\n\u001b[0;32m   1965\u001b[0m     \u001b[38;5;28;01mif\u001b[39;00m exc[\u001b[38;5;124m\"\u001b[39m\u001b[38;5;124mtype\u001b[39m\u001b[38;5;124m\"\u001b[39m] \u001b[38;5;241m==\u001b[39m \u001b[38;5;124m\"\u001b[39m\u001b[38;5;124mtechnosphere\u001b[39m\u001b[38;5;124m\"\u001b[39m:\n\u001b[0;32m   1966\u001b[0m         exchanges_after[exc[\u001b[38;5;124m\"\u001b[39m\u001b[38;5;124mproduct\u001b[39m\u001b[38;5;124m\"\u001b[39m]] \u001b[38;5;241m+\u001b[39m\u001b[38;5;241m=\u001b[39m exc[\u001b[38;5;124m\"\u001b[39m\u001b[38;5;124mamount\u001b[39m\u001b[38;5;124m\"\u001b[39m]\n\u001b[1;32m-> 1968\u001b[0m \u001b[38;5;28;01massert\u001b[39;00m \u001b[38;5;28mset\u001b[39m(exchanges_before\u001b[38;5;241m.\u001b[39mkeys()) \u001b[38;5;241m==\u001b[39m \u001b[38;5;28mset\u001b[39m(exchanges_after\u001b[38;5;241m.\u001b[39mkeys()), (\n\u001b[0;32m   1969\u001b[0m     \u001b[38;5;124mf\u001b[39m\u001b[38;5;124m\"\u001b[39m\u001b[38;5;124mExchanges before and after relinking are not the same: \u001b[39m\u001b[38;5;132;01m{\u001b[39;00m\u001b[38;5;28mset\u001b[39m(exchanges_before\u001b[38;5;241m.\u001b[39mkeys())\u001b[38;5;132;01m}\u001b[39;00m\u001b[38;5;124m != \u001b[39m\u001b[38;5;132;01m{\u001b[39;00m\u001b[38;5;28mset\u001b[39m(exchanges_after\u001b[38;5;241m.\u001b[39mkeys())\u001b[38;5;132;01m}\u001b[39;00m\u001b[38;5;124m\"\u001b[39m\n\u001b[0;32m   1970\u001b[0m     \u001b[38;5;124mf\u001b[39m\u001b[38;5;124m\"\u001b[39m\u001b[38;5;130;01m\\n\u001b[39;00m\u001b[38;5;132;01m{\u001b[39;00mdataset[\u001b[38;5;124m'\u001b[39m\u001b[38;5;124mname\u001b[39m\u001b[38;5;124m'\u001b[39m]\u001b[38;5;132;01m}\u001b[39;00m\u001b[38;5;124m|\u001b[39m\u001b[38;5;132;01m{\u001b[39;00mdataset[\u001b[38;5;124m'\u001b[39m\u001b[38;5;124mlocation\u001b[39m\u001b[38;5;124m'\u001b[39m]\u001b[38;5;132;01m}\u001b[39;00m\u001b[38;5;124m\"\u001b[39m\n\u001b[0;32m   1971\u001b[0m )\n\u001b[0;32m   1973\u001b[0m \u001b[38;5;28;01mreturn\u001b[39;00m dataset\n",
      "\u001b[1;31mAssertionError\u001b[0m: Exchanges before and after relinking are not the same: {'water, decarbonised', 'municipal solid waste', 'transport, freight, lorry, unspecified', 'chlorine, liquid', 'wood combustion power plant 20 MW', 'lubricating oil', 'waste mineral oil', None, 'sodium chloride, powder', 'ammonia, anhydrous, liquid', 'biomass, used as fuel', 'chemical, organic', 'wood ash mixture, pure'} != {'water, decarbonised', 'municipal solid waste', 'transport, freight, lorry, unspecified', 'chlorine, liquid', 'wood combustion power plant 20 MW', 'lubricating oil', 'waste mineral oil', 'sodium chloride, powder', 'ammonia, anhydrous, liquid', 'biomass, used as fuel', 'chemical, organic', 'wood ash mixture, pure'}\nelectricity production, at wood burning power plant|BRA"
     ]
    }
   ],
   "source": [
    "# select sector to integrate, or all sectors. for example, updating the electricity sector: ndb.update_electricity()\n",
    "ndb.update()"
   ]
  },
  {
   "cell_type": "code",
   "execution_count": null,
   "id": "f3303e44-f931-40cb-8b9f-ecfe90f6098b",
   "metadata": {},
   "outputs": [],
   "source": [
    "ndb.write_db_to_brightway()"
   ]
  },
  {
   "cell_type": "code",
   "execution_count": null,
   "id": "3af8c87a-3609-4125-b150-6876539a1d48",
   "metadata": {},
   "outputs": [],
   "source": [
    "ndb.write_superstructure_db_to_brightway()"
   ]
  },
  {
   "cell_type": "markdown",
   "id": "8a6da663-b634-4ae9-b33d-c624fe33fcb3",
   "metadata": {},
   "source": [
    "## Incremental Databases"
   ]
  },
  {
   "cell_type": "markdown",
   "id": "1dc43e44-f053-47c6-a824-6068f471bc90",
   "metadata": {},
   "source": [
    "The class ``IncrementalDatabase`` also implementing sectoral changes in an incremental, to easily distinguish the contribution of each sector on the results."
   ]
  },
  {
   "cell_type": "code",
   "execution_count": null,
   "id": "f38ac320-9bb2-4920-8010-d422f8369315",
   "metadata": {},
   "outputs": [],
   "source": [
    "ndb = IncrementalDatabase(\n",
    "    scenarios=[\n",
    "        {\"model\":\"image\", \"pathway\":\"SSP2-RCP26\", \"year\":2040},\n",
    "    ],\n",
    "    source_db=\"ecoinvent-3.9.-cutoff\", # <-- name of the database in the BW2 project. Must be a string.\n",
    "    source_version=\"3.10\", # <-- version of ecoinvent. Can be \"3.5\", \"3.6\", \"3.7\" or \"3.8\". Must be a string.\n",
    "    key=\"xxxxxxxxxxxxxxxxxx\",\n",
    ")"
   ]
  },
  {
   "cell_type": "code",
   "execution_count": null,
   "id": "52b3b7d9-4019-4f16-9b6b-9c1c9042454a",
   "metadata": {},
   "outputs": [],
   "source": [
    "sectors = {\n",
    "    \"electricity\": \"electricity\",\n",
    "    \"steel\": \"steel\",\n",
    "    \"others\": [\n",
    "        \"cement\",\n",
    "        \"cars\",\n",
    "        \"fuels\"\n",
    "    ]\n",
    "}"
   ]
  },
  {
   "cell_type": "code",
   "execution_count": null,
   "id": "ad34f965-1494-415a-8843-8aa55b778276",
   "metadata": {},
   "outputs": [],
   "source": [
    "ndb.update(sectors=sectors)"
   ]
  },
  {
   "cell_type": "code",
   "execution_count": null,
   "id": "b0fcb804-bfd5-4377-8e35-636af1d54c18",
   "metadata": {},
   "outputs": [],
   "source": [
    "ndb.write_increment_db_to_brightway(name=\"test increment\", file_format=\"csv\")"
   ]
  },
  {
   "cell_type": "markdown",
   "id": "c4048ea2-8791-41c2-897a-e0ef71b1bc82",
   "metadata": {},
   "source": [
    "## Reports\n",
    "### Scenario report\n",
    "You can generate a spreadsheet report showing the main variables of the scenario you have selected to create your databases. The report is saved in your working directory. Note that this report is generated automatically when exporting a database."
   ]
  },
  {
   "cell_type": "code",
   "execution_count": null,
   "id": "859aae5c-ec68-492c-b089-03141505e695",
   "metadata": {},
   "outputs": [],
   "source": [
    "ndb.generate_scenario_report()"
   ]
  },
  {
   "cell_type": "markdown",
   "id": "a8de2de3-d9df-45b7-87c9-903b87e3202e",
   "metadata": {},
   "source": [
    "## Changes report\n",
    "You can generate a spreadsheet report of the changes made to the original database. It gives an overview on:\n",
    "* the datasets created\n",
    "* the datasets modified\n",
    "* some performance indicators\n",
    "* scaling factors used to scale certain exchanges\n",
    "\n",
    "A \"Validation\" tab also shows any datasets that contain values or efficiencies that may seem incorrect.\n",
    "\n",
    "The report is saved in your working directory. It is generated automatically when you export a database."
   ]
  },
  {
   "cell_type": "code",
   "execution_count": null,
   "id": "6a2fdcc2-2169-4f5a-a2ab-bd8a37274846",
   "metadata": {},
   "outputs": [],
   "source": [
    "ndb.generate_change_report()"
   ]
  },
  {
   "cell_type": "code",
   "execution_count": null,
   "id": "9a62eecdedf03503",
   "metadata": {},
   "outputs": [],
   "source": []
  },
  {
   "cell_type": "markdown",
   "id": "2539d02bfc1a4d29",
   "metadata": {},
   "source": [
    "## Custom scenarios\n",
    "\n",
    "You can also create your own scenarios by providing a data package to premise. This data package should contain the following files:\n",
    "* ``datapackage.json``: a json file containing the metadata of the data package\n",
    "* ``scenario_data.csv``: a csv file containing the scenario data\n",
    "* ``config.yaml``: a yaml file containing the configuration of the scenario (which markets to create, etc.)\n",
    "* ``lci-inventories.csv``: a csv file containing additional inventories to import"
   ]
  },
  {
   "cell_type": "code",
   "execution_count": null,
   "id": "aca0631abffd620a",
   "metadata": {},
   "outputs": [],
   "source": [
    "import brightway2 as bw\n",
    "from premise import NewDatabase\n",
    "from datapackage import Package\n",
    "\n",
    "\n",
    "fp = r\"https://raw.githubusercontent.com/premise-community-scenarios/ammonia-prospective-scenarios/main/datapackage.json\"\n",
    "ammonia = Package(fp)\n",
    "\n",
    "bw.projects.set_current(\"your_bw_project\")\n",
    "\n",
    "ndb = NewDatabase(\n",
    "    scenarios = [\n",
    "        {\"model\":\"image\", \"pathway\":\"SSP2-Base\", \"year\":2050, \"external scenarios\": [{\"scenario\": \"Business As Usual - image\", \"data\": ammonia}]},\n",
    "        {\"model\":\"image\", \"pathway\":\"SSP2-RCP26\", \"year\":2030, \"external scenarios\": [{\"scenario\": \"Sustainable development - image\", \"data\": ammonia}]},\n",
    "    ],        \n",
    "    source_db=\"ecoinvent 3.10 cutoff\",\n",
    "    source_version=\"3.10\",\n",
    "    key='xxxxxxxxxxxxxxxxxxxxxxxxxxxxxxxxxxx',\n",
    ")\n",
    "    \n",
    "ndb.update(\"external\") # or ndb.update() if you want to update the database with the IAM data plus the external scenario\n"
   ]
  }
 ],
 "metadata": {
  "kernelspec": {
   "display_name": "Python 3 (ipykernel)",
   "language": "python",
   "name": "python3"
  },
  "language_info": {
   "codemirror_mode": {
    "name": "ipython",
    "version": 3
   },
   "file_extension": ".py",
   "mimetype": "text/x-python",
   "name": "python",
   "nbconvert_exporter": "python",
   "pygments_lexer": "ipython3",
   "version": "3.11.9"
  }
 },
 "nbformat": 4,
 "nbformat_minor": 5
}
