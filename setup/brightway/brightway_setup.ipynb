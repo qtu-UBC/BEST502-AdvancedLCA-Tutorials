{
 "cells": [
  {
   "cell_type": "markdown",
   "id": "57771a3e",
   "metadata": {},
   "source": [
    "# 🔧 Brightway 2.5 Setup Notebook (for UBC Jupyter Open)"
   ]
  },
  {
   "cell_type": "markdown",
   "id": "d404cc04",
   "metadata": {},
   "source": [
    "This notebook installs the Brightway2.5 ecosystem in **UBC Jupyter Open**, where users can't create Conda environments directly.\n",
    "\n",
    "✅ Use this notebook **only on Jupyter Open** (https://open.jupyter.ubc.ca)  \n",
    "🛑 For local installs, use `brightway_env.yml` instead (see course README)\n",
    "\n",
    "---"
   ]
  },
  {
   "cell_type": "code",
   "execution_count": null,
   "id": "d4be12ec",
   "metadata": {},
   "outputs": [],
   "source": [
    "# Check for Brightway2 and install only if missing\n",
    "try:\n",
    "    import brightway2\n",
    "    print(\"✅ Brightway2 is already installed.\")\n",
    "except ImportError:\n",
    "    print(\"Installing Brightway2 and dependencies...\")\n",
    "    !pip install bw2io==0.9.dev38 bw2calc==2.0.dev22 bw2data==4.0.dev56 bw2analyzer==0.11.7 stats_arrays==0.7 ecoinvent_interface==2.4.1 pypardiso jupyter ipykernel\n"
   ]
  },
  {
   "cell_type": "code",
   "execution_count": null,
   "id": "ca93592b",
   "metadata": {},
   "outputs": [],
   "source": [
    "# Register the kernel if needed\n",
    "!python -m ipykernel install --user --name brightway25 --display-name \"Brightway 2.5\"\n"
   ]
  },
  {
   "cell_type": "code",
   "execution_count": null,
   "id": "1c22ac03",
   "metadata": {},
   "outputs": [],
   "source": [
    "# Confirm installation\n",
    "import bw2data as bd\n",
    "import bw2io as bi\n",
    "import bw2calc as bc\n",
    "\n",
    "print(\"bw2data version\", bd.__version__)\n",
    "print(\"bw2io version\", bi.__version__)\n",
    "print(\"bw2calc version\", bc.__version__)\n"
   ]
  },
  {
   "cell_type": "markdown",
   "id": "629bd739",
   "metadata": {},
   "source": [
    "---\n",
    "\n",
    "## ✅ Done!\n",
    "You can now use the Brightway 2.5 environment by switching the kernel in any notebook:\n",
    "\n",
    "**Kernel → Change kernel → Brightway 2.5**\n",
    "\n",
    "You only need to run this once.\n",
    "\n",
    "*Last updated: August 07, 2025*\n"
   ]
  }
 ],
 "metadata": {},
 "nbformat": 4,
 "nbformat_minor": 5
}
