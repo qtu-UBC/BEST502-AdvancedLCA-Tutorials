{
 "cells": [
  {
   "cell_type": "markdown",
   "id": "e874ede5",
   "metadata": {},
   "source": [
    "# 🔧 Brightway 2.5 Setup Notebook"
   ]
  },
  {
   "cell_type": "markdown",
   "id": "c76e5b0a",
   "metadata": {},
   "source": [
    "This notebook sets up the `brightway25` virtual environment and registers it as a kernel in Jupyter.\n",
    "\n",
    "📌 **Run this notebook only once per account.**  \n",
    "🕒 Takes ~5–10 minutes (internet speed dependent).\n",
    "\n",
    "---\n"
   ]
  },
  {
   "cell_type": "code",
   "execution_count": null,
   "id": "7ca7c236",
   "metadata": {},
   "outputs": [],
   "source": [
    "# ⚙️ Step 1: Create the conda environment\n",
    "!mamba create -n brightway25 python=3.10 -y\n"
   ]
  },
  {
   "cell_type": "code",
   "execution_count": null,
   "id": "c4e54ba2",
   "metadata": {},
   "outputs": [],
   "source": [
    "# ⚙️ Step 2: Activate env and install packages\n",
    "# ⛔ If `source activate` doesn't work, try `conda activate`\n",
    "\n",
    "!source activate brightway25 && pip install brightway25 bw2io bw2data bw2calc bw_processing bw_graph_tools jupyter ipykernel\n"
   ]
  },
  {
   "cell_type": "code",
   "execution_count": null,
   "id": "0358f10a",
   "metadata": {},
   "outputs": [],
   "source": [
    "# ⚙️ Step 3: Register kernel with Jupyter\n",
    "!source activate brightway25 && python -m ipykernel install --user --name brightway25 --display-name \"Brightway 2.5\"\n"
   ]
  },
  {
   "cell_type": "code",
   "execution_count": null,
   "id": "50bb4310",
   "metadata": {},
   "outputs": [],
   "source": [
    "# ✅ Step 4: Confirm Brightway installation\n",
    "import brightway2 as bw\n",
    "print(\"Brightway version:\", bw.__version__)\n"
   ]
  },
  {
   "cell_type": "markdown",
   "id": "da229679",
   "metadata": {},
   "source": [
    "---\n",
    "## ✅ Done!\n",
    "You can now switch any notebook to the **Brightway 2.5** kernel using:\n",
    "\n",
    "- Menu: **Kernel → Change kernel → Brightway 2.5**\n",
    "\n",
    "You only need to run this setup once.\n",
    "\n",
    "---  \n",
    "*Generated on August 04, 2025*\n"
   ]
  }
 ],
 "metadata": {},
 "nbformat": 4,
 "nbformat_minor": 5
}
